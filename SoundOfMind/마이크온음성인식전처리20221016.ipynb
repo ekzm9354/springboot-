{
 "cells": [
  {
   "cell_type": "code",
   "execution_count": 50,
   "id": "a00c5fa9",
   "metadata": {},
   "outputs": [],
   "source": [
    "audioFilePath=\".\\large\\F0001\\F0001\\wav_48000\\F0001_000001.wav\""
   ]
  },
  {
   "cell_type": "code",
   "execution_count": 6,
   "id": "ebd1325c",
   "metadata": {},
   "outputs": [
    {
     "name": "stdout",
     "output_type": "stream",
     "text": [
      "[responseCode] 200\n",
      "[responBody]\n",
      "{\"result\":0,\"return_object\":{\"recognized\":\"그 날 같은 날조차 신나 나 하나\"}}\n"
     ]
    }
   ],
   "source": [
    "import urllib3\n",
    "import json\n",
    "import base64\n",
    "ㅇㅇ\n",
    " \n",
    "print(\"[responseCode] \" + str(response.status))\n",
    "print(\"[responBody]\")\n",
    "print(str(response.data,\"utf-8\"))"
   ]
  },
  {
   "cell_type": "code",
   "execution_count": 51,
   "id": "98ee7e57",
   "metadata": {},
   "outputs": [],
   "source": [
    "def voiceInsik(audioFilePath):\n",
    "    openApiURL = \"http://aiopen.etri.re.kr:8000/WiseASR/Recognition\"\n",
    "    accessKey = \"e0606dfd-dc71-4404-9949-a84bd4a8b5e9\"\n",
    "    languageCode = \"korean\"\n",
    "\n",
    "    file = open(audioFilePath, \"rb\")\n",
    "    audioContents = base64.b64encode(file.read()).decode(\"utf8\")\n",
    "    file.close()\n",
    "\n",
    "    requestJson = {\n",
    "        \"access_key\": accessKey,\n",
    "        \"argument\": {\n",
    "            \"language_code\": languageCode,\n",
    "            \"audio\": audioContents\n",
    "        }\n",
    "    }\n",
    "\n",
    "    http = urllib3.PoolManager()\n",
    "    response = http.request(\n",
    "        \"POST\",\n",
    "        openApiURL,\n",
    "        headers={\"Content-Type\": \"application/json; charset=UTF-8\"},\n",
    "        body=json.dumps(requestJson)\n",
    "    )\n",
    "    textArr = str(response.data,\"utf-8\")\n",
    "    text =textArr[43:-3]\n",
    "    return text"
   ]
  },
  {
   "cell_type": "code",
   "execution_count": 7,
   "id": "ce95f564",
   "metadata": {},
   "outputs": [],
   "source": [
    "import warnings\n",
    "import librosa\n",
    "import librosa.display\n",
    "import soundfile\n",
    "import os, glob, pickle\n",
    "import numpy as np\n",
    "from sklearn.model_selection import train_test_split\n",
    "from sklearn.metrics import accuracy_score\n",
    "import pandas as pd\n",
    "# import seaborn as sns\n",
    "import matplotlib.pyplot as plt\n",
    "from tqdm.notebook import tqdm\n",
    "import sklearn\n",
    "warnings.filterwarnings(action='ignore')"
   ]
  },
  {
   "cell_type": "code",
   "execution_count": 8,
   "id": "cd0ae937",
   "metadata": {},
   "outputs": [],
   "source": [
    "def extract_feature(file_name, mfcc, chroma, mel):\n",
    "    with soundfile.SoundFile(file_name) as sound_file:\n",
    "        X = sound_file.read(dtype=\"float32\")\n",
    "        sample_rate=sound_file.samplerate\n",
    "        if chroma:\n",
    "            stft=np.abs(librosa.stft(X))\n",
    "        result=np.array([])\n",
    "        if mfcc:\n",
    "            mfccs=np.mean(librosa.feature.mfcc(y=X, sr=sample_rate, n_mfcc=40).T, axis=0)\n",
    "            result=np.hstack((result, mfccs))\n",
    "        if chroma:\n",
    "            chroma=np.mean(librosa.feature.chroma_stft(S=stft, sr=sample_rate).T,axis=0)\n",
    "            result=np.hstack((result, chroma))\n",
    "        if mel:\n",
    "            mel=np.mean(librosa.feature.melspectrogram(X, sr=sample_rate).T,axis=0)\n",
    "            result=np.hstack((result, mel))\n",
    "    return result"
   ]
  },
  {
   "cell_type": "code",
   "execution_count": 9,
   "id": "e4bcd0e7",
   "metadata": {},
   "outputs": [],
   "source": [
    "voiceParam = extract_feature(audioFilePath,True,True,True)"
   ]
  },
  {
   "cell_type": "code",
   "execution_count": 53,
   "id": "3fab02d7",
   "metadata": {},
   "outputs": [
    {
     "data": {
      "text/plain": [
       "'그 날 같은 날조차 신나 나 하나'"
      ]
     },
     "execution_count": 53,
     "metadata": {},
     "output_type": "execute_result"
    }
   ],
   "source": [
    "voiceInsik(audioFilePath)"
   ]
  },
  {
   "cell_type": "code",
   "execution_count": 49,
   "id": "44455676",
   "metadata": {},
   "outputs": [],
   "source": [
    "# 플라스크로 text,voiceParam 보내기"
   ]
  },
  {
   "cell_type": "code",
   "execution_count": null,
   "id": "32d2b162",
   "metadata": {},
   "outputs": [],
   "source": [
    "from urllib import parse\n",
    "from unicodedata import category\n",
    "from flask import Flask,request,redirect,render_template\n",
    "from sympy import re\n",
    "\n",
    "app = Flask(__name__) # flask 서버객체 생성\n",
    " \n",
    "# route(경로): 외부에서 접근할 때 페이지 구분을 위한 경로지정\n",
    "@app.route('/')\n",
    "def voice():\n",
    "   \n",
    "    # ---- 마이크 실행\n",
    "    # --- 음성파일 저장\n",
    "    \n",
    "    textParam = voiceInsik(audioFilePath)\n",
    "    voiceParam = extract_feature(audioFilePath,True,True,True)\n",
    "    \n",
    "    \n",
    "    ## 코랩으로 자료 넘기기\n",
    "        url =f\"http://{ip}:8082/ikujo/RecommendFood.jsp?category=\n",
    " \n",
    "    return redirect(url),textParam,voiceParam\n",
    "\n",
    "# main함수의 시작을 의미 \n",
    "# 비유하자면 자바의 main(String[] args)메소드와 같은 역할\n",
    "if __name__ == '__main__':\n",
    "    # 웹서버주소(host)와 포트번호(port)를 지정하여 웹 서버 실행\n",
    "    app.run(host='59.0.147.198', port='5000') "
   ]
  },
  {
   "cell_type": "code",
   "execution_count": null,
   "id": "45704049",
   "metadata": {},
   "outputs": [],
   "source": []
  }
 ],
 "metadata": {
  "kernelspec": {
   "display_name": "Python 3",
   "language": "python",
   "name": "python3"
  },
  "language_info": {
   "codemirror_mode": {
    "name": "ipython",
    "version": 3
   },
   "file_extension": ".py",
   "mimetype": "text/x-python",
   "name": "python",
   "nbconvert_exporter": "python",
   "pygments_lexer": "ipython3",
   "version": "3.6.13"
  }
 },
 "nbformat": 4,
 "nbformat_minor": 5
}
